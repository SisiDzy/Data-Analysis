{
  "nbformat": 4,
  "nbformat_minor": 0,
  "metadata": {
    "colab": {
      "provenance": []
    },
    "kernelspec": {
      "name": "python3",
      "display_name": "Python 3"
    },
    "language_info": {
      "name": "python"
    }
  },
  "cells": [
    {
      "cell_type": "code",
      "source": [
        "from __future__ import division\n",
        "import pandas as pd\n",
        "import numpy as np\n",
        "import matplotlib.pyplot as plt\n",
        "import seaborn as sns\n",
        "import statsmodels.api as sm\n",
        "import statsmodels.formula.api as smf"
      ],
      "metadata": {
        "id": "0KpvcxJ8DcH1"
      },
      "execution_count": 1,
      "outputs": []
    },
    {
      "cell_type": "markdown",
      "source": [
        "### 1. Run a simple bivariate regression, and interpret your results. (Did the results fit your expectations? Why? Why not?)"
      ],
      "metadata": {
        "id": "4M3jME6dbmJ_"
      }
    },
    {
      "cell_type": "code",
      "execution_count": 2,
      "metadata": {
        "id": "lGNivOIabjAs",
        "colab": {
          "base_uri": "https://localhost:8080/",
          "height": 256
        },
        "outputId": "ea06b405-45dd-4c06-ee68-ad81bcca4728"
      },
      "outputs": [
        {
          "output_type": "execute_result",
          "data": {
            "text/plain": [
              "   vpsu  vstrat  adults  ballot  dateintv  famgen  form  formwt  gender1  \\\n",
              "0     1    1957       1       3       316       2     1       1        2   \n",
              "1     1    1957       2       2       630       1     2       1        2   \n",
              "2     1    1957       2       2       314       2     1       1        2   \n",
              "3     1    1957       1       1       313       1     2       1        2   \n",
              "4     1    1957       3       1       322       2     2       1        2   \n",
              "\n",
              "   hompop  ...  away7  gender14  old14  relate14  relhh14  relhhd14  relsp14  \\\n",
              "0       3  ...    NaN       NaN    NaN       NaN      NaN       NaN      NaN   \n",
              "1       2  ...    NaN       NaN    NaN       NaN      NaN       NaN      NaN   \n",
              "2       2  ...    NaN       NaN    NaN       NaN      NaN       NaN      NaN   \n",
              "3       1  ...    NaN       NaN    NaN       NaN      NaN       NaN      NaN   \n",
              "4       3  ...    NaN       NaN    NaN       NaN      NaN       NaN      NaN   \n",
              "\n",
              "   where12  where6  where7  \n",
              "0      NaN     NaN     NaN  \n",
              "1      NaN     NaN     NaN  \n",
              "2      NaN     NaN     NaN  \n",
              "3      NaN     NaN     NaN  \n",
              "4      NaN     NaN     NaN  \n",
              "\n",
              "[5 rows x 1261 columns]"
            ],
            "text/html": [
              "\n",
              "  <div id=\"df-adb32e05-21b1-438d-a059-7d5e3f36baf4\" class=\"colab-df-container\">\n",
              "    <div>\n",
              "<style scoped>\n",
              "    .dataframe tbody tr th:only-of-type {\n",
              "        vertical-align: middle;\n",
              "    }\n",
              "\n",
              "    .dataframe tbody tr th {\n",
              "        vertical-align: top;\n",
              "    }\n",
              "\n",
              "    .dataframe thead th {\n",
              "        text-align: right;\n",
              "    }\n",
              "</style>\n",
              "<table border=\"1\" class=\"dataframe\">\n",
              "  <thead>\n",
              "    <tr style=\"text-align: right;\">\n",
              "      <th></th>\n",
              "      <th>vpsu</th>\n",
              "      <th>vstrat</th>\n",
              "      <th>adults</th>\n",
              "      <th>ballot</th>\n",
              "      <th>dateintv</th>\n",
              "      <th>famgen</th>\n",
              "      <th>form</th>\n",
              "      <th>formwt</th>\n",
              "      <th>gender1</th>\n",
              "      <th>hompop</th>\n",
              "      <th>...</th>\n",
              "      <th>away7</th>\n",
              "      <th>gender14</th>\n",
              "      <th>old14</th>\n",
              "      <th>relate14</th>\n",
              "      <th>relhh14</th>\n",
              "      <th>relhhd14</th>\n",
              "      <th>relsp14</th>\n",
              "      <th>where12</th>\n",
              "      <th>where6</th>\n",
              "      <th>where7</th>\n",
              "    </tr>\n",
              "  </thead>\n",
              "  <tbody>\n",
              "    <tr>\n",
              "      <th>0</th>\n",
              "      <td>1</td>\n",
              "      <td>1957</td>\n",
              "      <td>1</td>\n",
              "      <td>3</td>\n",
              "      <td>316</td>\n",
              "      <td>2</td>\n",
              "      <td>1</td>\n",
              "      <td>1</td>\n",
              "      <td>2</td>\n",
              "      <td>3</td>\n",
              "      <td>...</td>\n",
              "      <td>NaN</td>\n",
              "      <td>NaN</td>\n",
              "      <td>NaN</td>\n",
              "      <td>NaN</td>\n",
              "      <td>NaN</td>\n",
              "      <td>NaN</td>\n",
              "      <td>NaN</td>\n",
              "      <td>NaN</td>\n",
              "      <td>NaN</td>\n",
              "      <td>NaN</td>\n",
              "    </tr>\n",
              "    <tr>\n",
              "      <th>1</th>\n",
              "      <td>1</td>\n",
              "      <td>1957</td>\n",
              "      <td>2</td>\n",
              "      <td>2</td>\n",
              "      <td>630</td>\n",
              "      <td>1</td>\n",
              "      <td>2</td>\n",
              "      <td>1</td>\n",
              "      <td>2</td>\n",
              "      <td>2</td>\n",
              "      <td>...</td>\n",
              "      <td>NaN</td>\n",
              "      <td>NaN</td>\n",
              "      <td>NaN</td>\n",
              "      <td>NaN</td>\n",
              "      <td>NaN</td>\n",
              "      <td>NaN</td>\n",
              "      <td>NaN</td>\n",
              "      <td>NaN</td>\n",
              "      <td>NaN</td>\n",
              "      <td>NaN</td>\n",
              "    </tr>\n",
              "    <tr>\n",
              "      <th>2</th>\n",
              "      <td>1</td>\n",
              "      <td>1957</td>\n",
              "      <td>2</td>\n",
              "      <td>2</td>\n",
              "      <td>314</td>\n",
              "      <td>2</td>\n",
              "      <td>1</td>\n",
              "      <td>1</td>\n",
              "      <td>2</td>\n",
              "      <td>2</td>\n",
              "      <td>...</td>\n",
              "      <td>NaN</td>\n",
              "      <td>NaN</td>\n",
              "      <td>NaN</td>\n",
              "      <td>NaN</td>\n",
              "      <td>NaN</td>\n",
              "      <td>NaN</td>\n",
              "      <td>NaN</td>\n",
              "      <td>NaN</td>\n",
              "      <td>NaN</td>\n",
              "      <td>NaN</td>\n",
              "    </tr>\n",
              "    <tr>\n",
              "      <th>3</th>\n",
              "      <td>1</td>\n",
              "      <td>1957</td>\n",
              "      <td>1</td>\n",
              "      <td>1</td>\n",
              "      <td>313</td>\n",
              "      <td>1</td>\n",
              "      <td>2</td>\n",
              "      <td>1</td>\n",
              "      <td>2</td>\n",
              "      <td>1</td>\n",
              "      <td>...</td>\n",
              "      <td>NaN</td>\n",
              "      <td>NaN</td>\n",
              "      <td>NaN</td>\n",
              "      <td>NaN</td>\n",
              "      <td>NaN</td>\n",
              "      <td>NaN</td>\n",
              "      <td>NaN</td>\n",
              "      <td>NaN</td>\n",
              "      <td>NaN</td>\n",
              "      <td>NaN</td>\n",
              "    </tr>\n",
              "    <tr>\n",
              "      <th>4</th>\n",
              "      <td>1</td>\n",
              "      <td>1957</td>\n",
              "      <td>3</td>\n",
              "      <td>1</td>\n",
              "      <td>322</td>\n",
              "      <td>2</td>\n",
              "      <td>2</td>\n",
              "      <td>1</td>\n",
              "      <td>2</td>\n",
              "      <td>3</td>\n",
              "      <td>...</td>\n",
              "      <td>NaN</td>\n",
              "      <td>NaN</td>\n",
              "      <td>NaN</td>\n",
              "      <td>NaN</td>\n",
              "      <td>NaN</td>\n",
              "      <td>NaN</td>\n",
              "      <td>NaN</td>\n",
              "      <td>NaN</td>\n",
              "      <td>NaN</td>\n",
              "      <td>NaN</td>\n",
              "    </tr>\n",
              "  </tbody>\n",
              "</table>\n",
              "<p>5 rows × 1261 columns</p>\n",
              "</div>\n",
              "    <div class=\"colab-df-buttons\">\n",
              "\n",
              "  <div class=\"colab-df-container\">\n",
              "    <button class=\"colab-df-convert\" onclick=\"convertToInteractive('df-adb32e05-21b1-438d-a059-7d5e3f36baf4')\"\n",
              "            title=\"Convert this dataframe to an interactive table.\"\n",
              "            style=\"display:none;\">\n",
              "\n",
              "  <svg xmlns=\"http://www.w3.org/2000/svg\" height=\"24px\" viewBox=\"0 -960 960 960\">\n",
              "    <path d=\"M120-120v-720h720v720H120Zm60-500h600v-160H180v160Zm220 220h160v-160H400v160Zm0 220h160v-160H400v160ZM180-400h160v-160H180v160Zm440 0h160v-160H620v160ZM180-180h160v-160H180v160Zm440 0h160v-160H620v160Z\"/>\n",
              "  </svg>\n",
              "    </button>\n",
              "\n",
              "  <style>\n",
              "    .colab-df-container {\n",
              "      display:flex;\n",
              "      gap: 12px;\n",
              "    }\n",
              "\n",
              "    .colab-df-convert {\n",
              "      background-color: #E8F0FE;\n",
              "      border: none;\n",
              "      border-radius: 50%;\n",
              "      cursor: pointer;\n",
              "      display: none;\n",
              "      fill: #1967D2;\n",
              "      height: 32px;\n",
              "      padding: 0 0 0 0;\n",
              "      width: 32px;\n",
              "    }\n",
              "\n",
              "    .colab-df-convert:hover {\n",
              "      background-color: #E2EBFA;\n",
              "      box-shadow: 0px 1px 2px rgba(60, 64, 67, 0.3), 0px 1px 3px 1px rgba(60, 64, 67, 0.15);\n",
              "      fill: #174EA6;\n",
              "    }\n",
              "\n",
              "    .colab-df-buttons div {\n",
              "      margin-bottom: 4px;\n",
              "    }\n",
              "\n",
              "    [theme=dark] .colab-df-convert {\n",
              "      background-color: #3B4455;\n",
              "      fill: #D2E3FC;\n",
              "    }\n",
              "\n",
              "    [theme=dark] .colab-df-convert:hover {\n",
              "      background-color: #434B5C;\n",
              "      box-shadow: 0px 1px 3px 1px rgba(0, 0, 0, 0.15);\n",
              "      filter: drop-shadow(0px 1px 2px rgba(0, 0, 0, 0.3));\n",
              "      fill: #FFFFFF;\n",
              "    }\n",
              "  </style>\n",
              "\n",
              "    <script>\n",
              "      const buttonEl =\n",
              "        document.querySelector('#df-adb32e05-21b1-438d-a059-7d5e3f36baf4 button.colab-df-convert');\n",
              "      buttonEl.style.display =\n",
              "        google.colab.kernel.accessAllowed ? 'block' : 'none';\n",
              "\n",
              "      async function convertToInteractive(key) {\n",
              "        const element = document.querySelector('#df-adb32e05-21b1-438d-a059-7d5e3f36baf4');\n",
              "        const dataTable =\n",
              "          await google.colab.kernel.invokeFunction('convertToInteractive',\n",
              "                                                    [key], {});\n",
              "        if (!dataTable) return;\n",
              "\n",
              "        const docLinkHtml = 'Like what you see? Visit the ' +\n",
              "          '<a target=\"_blank\" href=https://colab.research.google.com/notebooks/data_table.ipynb>data table notebook</a>'\n",
              "          + ' to learn more about interactive tables.';\n",
              "        element.innerHTML = '';\n",
              "        dataTable['output_type'] = 'display_data';\n",
              "        await google.colab.output.renderOutput(dataTable, element);\n",
              "        const docLink = document.createElement('div');\n",
              "        docLink.innerHTML = docLinkHtml;\n",
              "        element.appendChild(docLink);\n",
              "      }\n",
              "    </script>\n",
              "  </div>\n",
              "\n",
              "\n",
              "<div id=\"df-3256da1c-98ed-4652-bd58-cc360f54e509\">\n",
              "  <button class=\"colab-df-quickchart\" onclick=\"quickchart('df-3256da1c-98ed-4652-bd58-cc360f54e509')\"\n",
              "            title=\"Suggest charts.\"\n",
              "            style=\"display:none;\">\n",
              "\n",
              "<svg xmlns=\"http://www.w3.org/2000/svg\" height=\"24px\"viewBox=\"0 0 24 24\"\n",
              "     width=\"24px\">\n",
              "    <g>\n",
              "        <path d=\"M19 3H5c-1.1 0-2 .9-2 2v14c0 1.1.9 2 2 2h14c1.1 0 2-.9 2-2V5c0-1.1-.9-2-2-2zM9 17H7v-7h2v7zm4 0h-2V7h2v10zm4 0h-2v-4h2v4z\"/>\n",
              "    </g>\n",
              "</svg>\n",
              "  </button>\n",
              "\n",
              "<style>\n",
              "  .colab-df-quickchart {\n",
              "      --bg-color: #E8F0FE;\n",
              "      --fill-color: #1967D2;\n",
              "      --hover-bg-color: #E2EBFA;\n",
              "      --hover-fill-color: #174EA6;\n",
              "      --disabled-fill-color: #AAA;\n",
              "      --disabled-bg-color: #DDD;\n",
              "  }\n",
              "\n",
              "  [theme=dark] .colab-df-quickchart {\n",
              "      --bg-color: #3B4455;\n",
              "      --fill-color: #D2E3FC;\n",
              "      --hover-bg-color: #434B5C;\n",
              "      --hover-fill-color: #FFFFFF;\n",
              "      --disabled-bg-color: #3B4455;\n",
              "      --disabled-fill-color: #666;\n",
              "  }\n",
              "\n",
              "  .colab-df-quickchart {\n",
              "    background-color: var(--bg-color);\n",
              "    border: none;\n",
              "    border-radius: 50%;\n",
              "    cursor: pointer;\n",
              "    display: none;\n",
              "    fill: var(--fill-color);\n",
              "    height: 32px;\n",
              "    padding: 0;\n",
              "    width: 32px;\n",
              "  }\n",
              "\n",
              "  .colab-df-quickchart:hover {\n",
              "    background-color: var(--hover-bg-color);\n",
              "    box-shadow: 0 1px 2px rgba(60, 64, 67, 0.3), 0 1px 3px 1px rgba(60, 64, 67, 0.15);\n",
              "    fill: var(--button-hover-fill-color);\n",
              "  }\n",
              "\n",
              "  .colab-df-quickchart-complete:disabled,\n",
              "  .colab-df-quickchart-complete:disabled:hover {\n",
              "    background-color: var(--disabled-bg-color);\n",
              "    fill: var(--disabled-fill-color);\n",
              "    box-shadow: none;\n",
              "  }\n",
              "\n",
              "  .colab-df-spinner {\n",
              "    border: 2px solid var(--fill-color);\n",
              "    border-color: transparent;\n",
              "    border-bottom-color: var(--fill-color);\n",
              "    animation:\n",
              "      spin 1s steps(1) infinite;\n",
              "  }\n",
              "\n",
              "  @keyframes spin {\n",
              "    0% {\n",
              "      border-color: transparent;\n",
              "      border-bottom-color: var(--fill-color);\n",
              "      border-left-color: var(--fill-color);\n",
              "    }\n",
              "    20% {\n",
              "      border-color: transparent;\n",
              "      border-left-color: var(--fill-color);\n",
              "      border-top-color: var(--fill-color);\n",
              "    }\n",
              "    30% {\n",
              "      border-color: transparent;\n",
              "      border-left-color: var(--fill-color);\n",
              "      border-top-color: var(--fill-color);\n",
              "      border-right-color: var(--fill-color);\n",
              "    }\n",
              "    40% {\n",
              "      border-color: transparent;\n",
              "      border-right-color: var(--fill-color);\n",
              "      border-top-color: var(--fill-color);\n",
              "    }\n",
              "    60% {\n",
              "      border-color: transparent;\n",
              "      border-right-color: var(--fill-color);\n",
              "    }\n",
              "    80% {\n",
              "      border-color: transparent;\n",
              "      border-right-color: var(--fill-color);\n",
              "      border-bottom-color: var(--fill-color);\n",
              "    }\n",
              "    90% {\n",
              "      border-color: transparent;\n",
              "      border-bottom-color: var(--fill-color);\n",
              "    }\n",
              "  }\n",
              "</style>\n",
              "\n",
              "  <script>\n",
              "    async function quickchart(key) {\n",
              "      const quickchartButtonEl =\n",
              "        document.querySelector('#' + key + ' button');\n",
              "      quickchartButtonEl.disabled = true;  // To prevent multiple clicks.\n",
              "      quickchartButtonEl.classList.add('colab-df-spinner');\n",
              "      try {\n",
              "        const charts = await google.colab.kernel.invokeFunction(\n",
              "            'suggestCharts', [key], {});\n",
              "      } catch (error) {\n",
              "        console.error('Error during call to suggestCharts:', error);\n",
              "      }\n",
              "      quickchartButtonEl.classList.remove('colab-df-spinner');\n",
              "      quickchartButtonEl.classList.add('colab-df-quickchart-complete');\n",
              "    }\n",
              "    (() => {\n",
              "      let quickchartButtonEl =\n",
              "        document.querySelector('#df-3256da1c-98ed-4652-bd58-cc360f54e509 button');\n",
              "      quickchartButtonEl.style.display =\n",
              "        google.colab.kernel.accessAllowed ? 'block' : 'none';\n",
              "    })();\n",
              "  </script>\n",
              "</div>\n",
              "    </div>\n",
              "  </div>\n"
            ]
          },
          "metadata": {},
          "execution_count": 2
        }
      ],
      "source": [
        "d = pd.read_csv(\"GSS.2006.csv\")\n",
        "d.head()"
      ]
    },
    {
      "cell_type": "markdown",
      "source": [
        "I want to see if people ranked themselves in a higher social group because they made more money on average. Therefore, I use these variables:\n",
        "\n",
        "1. RANK: In our society there are groups which tend to be towards the top and those that are towards the bottom. Here we have a scale that runs from top (1) to bottom (10). Where would you put yourself on this scale?\n",
        "\n",
        "2. REALRINC: Respondent's income on 1972-1991 surveys in constant dollars (base=1986).\n"
      ],
      "metadata": {
        "id": "7e6e1f1WHL8d"
      }
    },
    {
      "cell_type": "code",
      "source": [
        "# Reverse rank - higher variable means higher rank\n",
        "d['rrank']=11-(d['rank'])"
      ],
      "metadata": {
        "id": "u7caK0Jgkioi"
      },
      "execution_count": 3,
      "outputs": []
    },
    {
      "cell_type": "code",
      "source": [
        "# Turn income into 1000s of dollars for ease of interpretation\n",
        "d['realrinc1000s'] = (d['realrinc'])/1000"
      ],
      "metadata": {
        "id": "_m-tA3_Tl6YQ"
      },
      "execution_count": 4,
      "outputs": []
    },
    {
      "cell_type": "code",
      "source": [
        "# Look at how income was distrubuted in each social group\n",
        "# We can see that people who ranked themselves in a high social group tend to have a higher income, but there is some variability\n",
        "sns.boxplot(x=\"rrank\", y=\"realrinc1000s\", data=d)\n",
        "plt.title(\"Income Distrubution in Social Groups\")\n",
        "plt.show()"
      ],
      "metadata": {
        "colab": {
          "base_uri": "https://localhost:8080/",
          "height": 472
        },
        "id": "InfhAUFsHKGB",
        "outputId": "96d36b2d-a865-4be9-a1ef-9252a54a8d8d"
      },
      "execution_count": 5,
      "outputs": [
        {
          "output_type": "display_data",
          "data": {
            "text/plain": [
              "<Figure size 640x480 with 1 Axes>"
            ],
            "image/png": "[encoded data removed]"
          },
          "metadata": {}
        }
      ]
    },
    {
      "cell_type": "code",
      "source": [
        "# Include only observations that also answer about their educational degree\n",
        "dd = d.dropna(subset = [\"degree\"])\n",
        "\n",
        "lm_rep = smf.ols(formula = 'rrank~realrinc1000s', data = dd).fit()\n",
        "print (lm_rep.summary())"
      ],
      "metadata": {
        "colab": {
          "base_uri": "https://localhost:8080/"
        },
        "id": "wNTYQcKsD0Ab",
        "outputId": "9c0f0f43-1962-4d53-a3c7-456696aa1ab2"
      },
      "execution_count": 6,
      "outputs": [
        {
          "output_type": "stream",
          "name": "stdout",
          "text": [
            "                            OLS Regression Results                            \n",
            "==============================================================================\n",
            "Dep. Variable:                  rrank   R-squared:                       0.026\n",
            "Model:                            OLS   Adj. R-squared:                  0.025\n",
            "Method:                 Least Squares   F-statistic:                     24.02\n",
            "Date:                Sun, 05 Nov 2023   Prob (F-statistic):           1.13e-06\n",
            "Time:                        20:46:28   Log-Likelihood:                -1809.6\n",
            "No. Observations:                 911   AIC:                             3623.\n",
            "Df Residuals:                     909   BIC:                             3633.\n",
            "Df Model:                           1                                         \n",
            "Covariance Type:            nonrobust                                         \n",
            "=================================================================================\n",
            "                    coef    std err          t      P>|t|      [0.025      0.975]\n",
            "---------------------------------------------------------------------------------\n",
            "Intercept         6.3303      0.078     80.885      0.000       6.177       6.484\n",
            "realrinc1000s     0.0106      0.002      4.901      0.000       0.006       0.015\n",
            "==============================================================================\n",
            "Omnibus:                       28.821   Durbin-Watson:                   1.980\n",
            "Prob(Omnibus):                  0.000   Jarque-Bera (JB):               35.032\n",
            "Skew:                          -0.358   Prob(JB):                     2.47e-08\n",
            "Kurtosis:                       3.641   Cond. No.                         48.4\n",
            "==============================================================================\n",
            "\n",
            "Notes:\n",
            "[1] Standard Errors assume that the covariance matrix of the errors is correctly specified.\n"
          ]
        }
      ]
    },
    {
      "cell_type": "markdown",
      "source": [
        "For every 1000 dollars more, a person ranked him or her self 0.0106 points higher in social groups on average. This is statistically significant since p-value < 0.05, and the model can only explain 2.6% of the variability in the rank since r-squared is 0.026. The result fits my expectation since individuals in higher social groups typically possess greater financial resources."
      ],
      "metadata": {
        "id": "UwqvQPGyMO4y"
      }
    },
    {
      "cell_type": "markdown",
      "source": [
        "### 2. Add an additional variable that might mediate or partly \"explain\" the initial association from that simple regression above -- and explain your results. Did it work out? Yes? No?"
      ],
      "metadata": {
        "id": "dGJNsi6vbom6"
      }
    },
    {
      "cell_type": "markdown",
      "source": [
        "The additional variable I add is the highest educational degree earned by respondent (DEGREE), because it may help explain the relationship between a higher income and a higher rank in social groups. Degrees in this variable are: Less than high school (0), High school, Associate/Junior college, Bachelor's, and Graduate (4)."
      ],
      "metadata": {
        "id": "nbBIQ1BWMeRz"
      }
    },
    {
      "cell_type": "code",
      "source": [
        "# Look at how income was distrubuted in people with different educational degrees\n",
        "# We can see that people with higher educational degrees had higher incomes\n",
        "sns.boxplot(x=\"degree\", y=\"realrinc1000s\", data=dd)\n",
        "plt.title(\"Income Distrubution in People with Different Educational Degrees\")\n",
        "plt.show()"
      ],
      "metadata": {
        "colab": {
          "base_uri": "https://localhost:8080/",
          "height": 472
        },
        "outputId": "aeb3d696-ccd5-4cad-9a89-022b220a8c44",
        "id": "dUKvpl07Wv2j"
      },
      "execution_count": 7,
      "outputs": [
        {
          "output_type": "display_data",
          "data": {
            "text/plain": [
              "<Figure size 640x480 with 1 Axes>"
            ],
            "image/png": "[encoded data removed]"
          },
          "metadata": {}
        }
      ]
    },
    {
      "cell_type": "code",
      "source": [
        "lm_rep = smf.ols(formula = 'rrank~realrinc1000s+degree', data = dd).fit()\n",
        "print (lm_rep.summary())"
      ],
      "metadata": {
        "id": "KjDZfPA9bqr8",
        "colab": {
          "base_uri": "https://localhost:8080/"
        },
        "outputId": "24fc2a93-5120-4ce8-ccde-1c76519ce843"
      },
      "execution_count": 8,
      "outputs": [
        {
          "output_type": "stream",
          "name": "stdout",
          "text": [
            "                            OLS Regression Results                            \n",
            "==============================================================================\n",
            "Dep. Variable:                  rrank   R-squared:                       0.038\n",
            "Model:                            OLS   Adj. R-squared:                  0.035\n",
            "Method:                 Least Squares   F-statistic:                     17.73\n",
            "Date:                Sun, 05 Nov 2023   Prob (F-statistic):           2.80e-08\n",
            "Time:                        20:46:28   Log-Likelihood:                -1804.1\n",
            "No. Observations:                 911   AIC:                             3614.\n",
            "Df Residuals:                     908   BIC:                             3629.\n",
            "Df Model:                           2                                         \n",
            "Covariance Type:            nonrobust                                         \n",
            "=================================================================================\n",
            "                    coef    std err          t      P>|t|      [0.025      0.975]\n",
            "---------------------------------------------------------------------------------\n",
            "Intercept         6.1133      0.101     60.319      0.000       5.914       6.312\n",
            "realrinc1000s     0.0078      0.002      3.405      0.001       0.003       0.012\n",
            "degree            0.1709      0.051      3.342      0.001       0.071       0.271\n",
            "==============================================================================\n",
            "Omnibus:                       26.287   Durbin-Watson:                   1.987\n",
            "Prob(Omnibus):                  0.000   Jarque-Bera (JB):               32.769\n",
            "Skew:                          -0.325   Prob(JB):                     7.66e-08\n",
            "Kurtosis:                       3.663   Cond. No.                         66.8\n",
            "==============================================================================\n",
            "\n",
            "Notes:\n",
            "[1] Standard Errors assume that the covariance matrix of the errors is correctly specified.\n"
          ]
        }
      ]
    },
    {
      "cell_type": "markdown",
      "source": [
        "When keeping income constant, individuals with a higher degree of education tend to be 0.17 points higher in their self-perceived social group ranking. But the educational degree hardly changes the income variable, so it does not really mediate the relationship between income and rank."
      ],
      "metadata": {
        "id": "C-ahB4ZxMlcU"
      }
    },
    {
      "cell_type": "markdown",
      "source": [
        "### 3. Run another multiple regression. Tell me how you expect your dependent variable to be affected by the independent variables. Interpret your results."
      ],
      "metadata": {
        "id": "lLC7YvWjbq82"
      }
    },
    {
      "cell_type": "code",
      "source": [
        "d = pd.read_csv(\"WVS.csv\")\n",
        "d.head()"
      ],
      "metadata": {
        "id": "NcerhSgTXKU1",
        "colab": {
          "base_uri": "https://localhost:8080/",
          "height": 256
        },
        "outputId": "5de57acb-3ef7-4292-d897-b34230fc9047"
      },
      "execution_count": 9,
      "outputs": [
        {
          "output_type": "execute_result",
          "data": {
            "text/plain": [
              "   V1  V2  V2A   V3   V4   V5   V6   V7   V8   V9  ...  V224_ESMA  V228_2  \\\n",
              "0   6  12   12  1.0  1.0  1.0  1.0  NaN  1.0  1.0  ...        NaN     NaN   \n",
              "1   6  12   12  2.0  1.0  2.0  3.0  4.0  2.0  2.0  ...        NaN     NaN   \n",
              "2   6  12   12  3.0  1.0  3.0  2.0  4.0  2.0  1.0  ...        NaN     NaN   \n",
              "3   6  12   12  4.0  1.0  1.0  3.0  4.0  3.0  1.0  ...        NaN     NaN   \n",
              "4   6  12   12  5.0  1.0  1.0  1.0  2.0  1.0  1.0  ...        NaN     NaN   \n",
              "\n",
              "   V243_AU  V244_AU  V248_CS  V253_CS  V256B  V256C  sacsecval  secvalwgt  \n",
              "0      NaN      NaN      NaN      NaN    NaN    NaN   0.300476        1.0  \n",
              "1      NaN      NaN      NaN      NaN    NaN    NaN   0.301905        1.0  \n",
              "2      NaN      NaN      NaN      NaN    NaN    NaN   0.386071        1.0  \n",
              "3      NaN      NaN      NaN      NaN    NaN    NaN   0.344405        1.0  \n",
              "4      NaN      NaN      NaN      NaN    NaN    NaN   0.304167        1.0  \n",
              "\n",
              "[5 rows x 381 columns]"
            ],
            "text/html": [
              "\n",
              "  <div id=\"df-2bae8be2-b137-41de-9677-050c06ff66d9\" class=\"colab-df-container\">\n",
              "    <div>\n",
              "<style scoped>\n",
              "    .dataframe tbody tr th:only-of-type {\n",
              "        vertical-align: middle;\n",
              "    }\n",
              "\n",
              "    .dataframe tbody tr th {\n",
              "        vertical-align: top;\n",
              "    }\n",
              "\n",
              "    .dataframe thead th {\n",
              "        text-align: right;\n",
              "    }\n",
              "</style>\n",
              "<table border=\"1\" class=\"dataframe\">\n",
              "  <thead>\n",
              "    <tr style=\"text-align: right;\">\n",
              "      <th></th>\n",
              "      <th>V1</th>\n",
              "      <th>V2</th>\n",
              "      <th>V2A</th>\n",
              "      <th>V3</th>\n",
              "      <th>V4</th>\n",
              "      <th>V5</th>\n",
              "      <th>V6</th>\n",
              "      <th>V7</th>\n",
              "      <th>V8</th>\n",
              "      <th>V9</th>\n",
              "      <th>...</th>\n",
              "      <th>V224_ESMA</th>\n",
              "      <th>V228_2</th>\n",
              "      <th>V243_AU</th>\n",
              "      <th>V244_AU</th>\n",
              "      <th>V248_CS</th>\n",
              "      <th>V253_CS</th>\n",
              "      <th>V256B</th>\n",
              "      <th>V256C</th>\n",
              "      <th>sacsecval</th>\n",
              "      <th>secvalwgt</th>\n",
              "    </tr>\n",
              "  </thead>\n",
              "  <tbody>\n",
              "    <tr>\n",
              "      <th>0</th>\n",
              "      <td>6</td>\n",
              "      <td>12</td>\n",
              "      <td>12</td>\n",
              "      <td>1.0</td>\n",
              "      <td>1.0</td>\n",
              "      <td>1.0</td>\n",
              "      <td>1.0</td>\n",
              "      <td>NaN</td>\n",
              "      <td>1.0</td>\n",
              "      <td>1.0</td>\n",
              "      <td>...</td>\n",
              "      <td>NaN</td>\n",
              "      <td>NaN</td>\n",
              "      <td>NaN</td>\n",
              "      <td>NaN</td>\n",
              "      <td>NaN</td>\n",
              "      <td>NaN</td>\n",
              "      <td>NaN</td>\n",
              "      <td>NaN</td>\n",
              "      <td>0.300476</td>\n",
              "      <td>1.0</td>\n",
              "    </tr>\n",
              "    <tr>\n",
              "      <th>1</th>\n",
              "      <td>6</td>\n",
              "      <td>12</td>\n",
              "      <td>12</td>\n",
              "      <td>2.0</td>\n",
              "      <td>1.0</td>\n",
              "      <td>2.0</td>\n",
              "      <td>3.0</td>\n",
              "      <td>4.0</td>\n",
              "      <td>2.0</td>\n",
              "      <td>2.0</td>\n",
              "      <td>...</td>\n",
              "      <td>NaN</td>\n",
              "      <td>NaN</td>\n",
              "      <td>NaN</td>\n",
              "      <td>NaN</td>\n",
              "      <td>NaN</td>\n",
              "      <td>NaN</td>\n",
              "      <td>NaN</td>\n",
              "      <td>NaN</td>\n",
              "      <td>0.301905</td>\n",
              "      <td>1.0</td>\n",
              "    </tr>\n",
              "    <tr>\n",
              "      <th>2</th>\n",
              "      <td>6</td>\n",
              "      <td>12</td>\n",
              "      <td>12</td>\n",
              "      <td>3.0</td>\n",
              "      <td>1.0</td>\n",
              "      <td>3.0</td>\n",
              "      <td>2.0</td>\n",
              "      <td>4.0</td>\n",
              "      <td>2.0</td>\n",
              "      <td>1.0</td>\n",
              "      <td>...</td>\n",
              "      <td>NaN</td>\n",
              "      <td>NaN</td>\n",
              "      <td>NaN</td>\n",
              "      <td>NaN</td>\n",
              "      <td>NaN</td>\n",
              "      <td>NaN</td>\n",
              "      <td>NaN</td>\n",
              "      <td>NaN</td>\n",
              "      <td>0.386071</td>\n",
              "      <td>1.0</td>\n",
              "    </tr>\n",
              "    <tr>\n",
              "      <th>3</th>\n",
              "      <td>6</td>\n",
              "      <td>12</td>\n",
              "      <td>12</td>\n",
              "      <td>4.0</td>\n",
              "      <td>1.0</td>\n",
              "      <td>1.0</td>\n",
              "      <td>3.0</td>\n",
              "      <td>4.0</td>\n",
              "      <td>3.0</td>\n",
              "      <td>1.0</td>\n",
              "      <td>...</td>\n",
              "      <td>NaN</td>\n",
              "      <td>NaN</td>\n",
              "      <td>NaN</td>\n",
              "      <td>NaN</td>\n",
              "      <td>NaN</td>\n",
              "      <td>NaN</td>\n",
              "      <td>NaN</td>\n",
              "      <td>NaN</td>\n",
              "      <td>0.344405</td>\n",
              "      <td>1.0</td>\n",
              "    </tr>\n",
              "    <tr>\n",
              "      <th>4</th>\n",
              "      <td>6</td>\n",
              "      <td>12</td>\n",
              "      <td>12</td>\n",
              "      <td>5.0</td>\n",
              "      <td>1.0</td>\n",
              "      <td>1.0</td>\n",
              "      <td>1.0</td>\n",
              "      <td>2.0</td>\n",
              "      <td>1.0</td>\n",
              "      <td>1.0</td>\n",
              "      <td>...</td>\n",
              "      <td>NaN</td>\n",
              "      <td>NaN</td>\n",
              "      <td>NaN</td>\n",
              "      <td>NaN</td>\n",
              "      <td>NaN</td>\n",
              "      <td>NaN</td>\n",
              "      <td>NaN</td>\n",
              "      <td>NaN</td>\n",
              "      <td>0.304167</td>\n",
              "      <td>1.0</td>\n",
              "    </tr>\n",
              "  </tbody>\n",
              "</table>\n",
              "<p>5 rows × 381 columns</p>\n",
              "</div>\n",
              "    <div class=\"colab-df-buttons\">\n",
              "\n",
              "  <div class=\"colab-df-container\">\n",
              "    <button class=\"colab-df-convert\" onclick=\"convertToInteractive('df-2bae8be2-b137-41de-9677-050c06ff66d9')\"\n",
              "            title=\"Convert this dataframe to an interactive table.\"\n",
              "            style=\"display:none;\">\n",
              "\n",
              "  <svg xmlns=\"http://www.w3.org/2000/svg\" height=\"24px\" viewBox=\"0 -960 960 960\">\n",
              "    <path d=\"M120-120v-720h720v720H120Zm60-500h600v-160H180v160Zm220 220h160v-160H400v160Zm0 220h160v-160H400v160ZM180-400h160v-160H180v160Zm440 0h160v-160H620v160ZM180-180h160v-160H180v160Zm440 0h160v-160H620v160Z\"/>\n",
              "  </svg>\n",
              "    </button>\n",
              "\n",
              "  <style>\n",
              "    .colab-df-container {\n",
              "      display:flex;\n",
              "      gap: 12px;\n",
              "    }\n",
              "\n",
              "    .colab-df-convert {\n",
              "      background-color: #E8F0FE;\n",
              "      border: none;\n",
              "      border-radius: 50%;\n",
              "      cursor: pointer;\n",
              "      display: none;\n",
              "      fill: #1967D2;\n",
              "      height: 32px;\n",
              "      padding: 0 0 0 0;\n",
              "      width: 32px;\n",
              "    }\n",
              "\n",
              "    .colab-df-convert:hover {\n",
              "      background-color: #E2EBFA;\n",
              "      box-shadow: 0px 1px 2px rgba(60, 64, 67, 0.3), 0px 1px 3px 1px rgba(60, 64, 67, 0.15);\n",
              "      fill: #174EA6;\n",
              "    }\n",
              "\n",
              "    .colab-df-buttons div {\n",
              "      margin-bottom: 4px;\n",
              "    }\n",
              "\n",
              "    [theme=dark] .colab-df-convert {\n",
              "      background-color: #3B4455;\n",
              "      fill: #D2E3FC;\n",
              "    }\n",
              "\n",
              "    [theme=dark] .colab-df-convert:hover {\n",
              "      background-color: #434B5C;\n",
              "      box-shadow: 0px 1px 3px 1px rgba(0, 0, 0, 0.15);\n",
              "      filter: drop-shadow(0px 1px 2px rgba(0, 0, 0, 0.3));\n",
              "      fill: #FFFFFF;\n",
              "    }\n",
              "  </style>\n",
              "\n",
              "    <script>\n",
              "      const buttonEl =\n",
              "        document.querySelector('#df-2bae8be2-b137-41de-9677-050c06ff66d9 button.colab-df-convert');\n",
              "      buttonEl.style.display =\n",
              "        google.colab.kernel.accessAllowed ? 'block' : 'none';\n",
              "\n",
              "      async function convertToInteractive(key) {\n",
              "        const element = document.querySelector('#df-2bae8be2-b137-41de-9677-050c06ff66d9');\n",
              "        const dataTable =\n",
              "          await google.colab.kernel.invokeFunction('convertToInteractive',\n",
              "                                                    [key], {});\n",
              "        if (!dataTable) return;\n",
              "\n",
              "        const docLinkHtml = 'Like what you see? Visit the ' +\n",
              "          '<a target=\"_blank\" href=https://colab.research.google.com/notebooks/data_table.ipynb>data table notebook</a>'\n",
              "          + ' to learn more about interactive tables.';\n",
              "        element.innerHTML = '';\n",
              "        dataTable['output_type'] = 'display_data';\n",
              "        await google.colab.output.renderOutput(dataTable, element);\n",
              "        const docLink = document.createElement('div');\n",
              "        docLink.innerHTML = docLinkHtml;\n",
              "        element.appendChild(docLink);\n",
              "      }\n",
              "    </script>\n",
              "  </div>\n",
              "\n",
              "\n",
              "<div id=\"df-d8bf094b-c34c-44df-a6f5-312338659875\">\n",
              "  <button class=\"colab-df-quickchart\" onclick=\"quickchart('df-d8bf094b-c34c-44df-a6f5-312338659875')\"\n",
              "            title=\"Suggest charts.\"\n",
              "            style=\"display:none;\">\n",
              "\n",
              "<svg xmlns=\"http://www.w3.org/2000/svg\" height=\"24px\"viewBox=\"0 0 24 24\"\n",
              "     width=\"24px\">\n",
              "    <g>\n",
              "        <path d=\"M19 3H5c-1.1 0-2 .9-2 2v14c0 1.1.9 2 2 2h14c1.1 0 2-.9 2-2V5c0-1.1-.9-2-2-2zM9 17H7v-7h2v7zm4 0h-2V7h2v10zm4 0h-2v-4h2v4z\"/>\n",
              "    </g>\n",
              "</svg>\n",
              "  </button>\n",
              "\n",
              "<style>\n",
              "  .colab-df-quickchart {\n",
              "      --bg-color: #E8F0FE;\n",
              "      --fill-color: #1967D2;\n",
              "      --hover-bg-color: #E2EBFA;\n",
              "      --hover-fill-color: #174EA6;\n",
              "      --disabled-fill-color: #AAA;\n",
              "      --disabled-bg-color: #DDD;\n",
              "  }\n",
              "\n",
              "  [theme=dark] .colab-df-quickchart {\n",
              "      --bg-color: #3B4455;\n",
              "      --fill-color: #D2E3FC;\n",
              "      --hover-bg-color: #434B5C;\n",
              "      --hover-fill-color: #FFFFFF;\n",
              "      --disabled-bg-color: #3B4455;\n",
              "      --disabled-fill-color: #666;\n",
              "  }\n",
              "\n",
              "  .colab-df-quickchart {\n",
              "    background-color: var(--bg-color);\n",
              "    border: none;\n",
              "    border-radius: 50%;\n",
              "    cursor: pointer;\n",
              "    display: none;\n",
              "    fill: var(--fill-color);\n",
              "    height: 32px;\n",
              "    padding: 0;\n",
              "    width: 32px;\n",
              "  }\n",
              "\n",
              "  .colab-df-quickchart:hover {\n",
              "    background-color: var(--hover-bg-color);\n",
              "    box-shadow: 0 1px 2px rgba(60, 64, 67, 0.3), 0 1px 3px 1px rgba(60, 64, 67, 0.15);\n",
              "    fill: var(--button-hover-fill-color);\n",
              "  }\n",
              "\n",
              "  .colab-df-quickchart-complete:disabled,\n",
              "  .colab-df-quickchart-complete:disabled:hover {\n",
              "    background-color: var(--disabled-bg-color);\n",
              "    fill: var(--disabled-fill-color);\n",
              "    box-shadow: none;\n",
              "  }\n",
              "\n",
              "  .colab-df-spinner {\n",
              "    border: 2px solid var(--fill-color);\n",
              "    border-color: transparent;\n",
              "    border-bottom-color: var(--fill-color);\n",
              "    animation:\n",
              "      spin 1s steps(1) infinite;\n",
              "  }\n",
              "\n",
              "  @keyframes spin {\n",
              "    0% {\n",
              "      border-color: transparent;\n",
              "      border-bottom-color: var(--fill-color);\n",
              "      border-left-color: var(--fill-color);\n",
              "    }\n",
              "    20% {\n",
              "      border-color: transparent;\n",
              "      border-left-color: var(--fill-color);\n",
              "      border-top-color: var(--fill-color);\n",
              "    }\n",
              "    30% {\n",
              "      border-color: transparent;\n",
              "      border-left-color: var(--fill-color);\n",
              "      border-top-color: var(--fill-color);\n",
              "      border-right-color: var(--fill-color);\n",
              "    }\n",
              "    40% {\n",
              "      border-color: transparent;\n",
              "      border-right-color: var(--fill-color);\n",
              "      border-top-color: var(--fill-color);\n",
              "    }\n",
              "    60% {\n",
              "      border-color: transparent;\n",
              "      border-right-color: var(--fill-color);\n",
              "    }\n",
              "    80% {\n",
              "      border-color: transparent;\n",
              "      border-right-color: var(--fill-color);\n",
              "      border-bottom-color: var(--fill-color);\n",
              "    }\n",
              "    90% {\n",
              "      border-color: transparent;\n",
              "      border-bottom-color: var(--fill-color);\n",
              "    }\n",
              "  }\n",
              "</style>\n",
              "\n",
              "  <script>\n",
              "    async function quickchart(key) {\n",
              "      const quickchartButtonEl =\n",
              "        document.querySelector('#' + key + ' button');\n",
              "      quickchartButtonEl.disabled = true;  // To prevent multiple clicks.\n",
              "      quickchartButtonEl.classList.add('colab-df-spinner');\n",
              "      try {\n",
              "        const charts = await google.colab.kernel.invokeFunction(\n",
              "            'suggestCharts', [key], {});\n",
              "      } catch (error) {\n",
              "        console.error('Error during call to suggestCharts:', error);\n",
              "      }\n",
              "      quickchartButtonEl.classList.remove('colab-df-spinner');\n",
              "      quickchartButtonEl.classList.add('colab-df-quickchart-complete');\n",
              "    }\n",
              "    (() => {\n",
              "      let quickchartButtonEl =\n",
              "        document.querySelector('#df-d8bf094b-c34c-44df-a6f5-312338659875 button');\n",
              "      quickchartButtonEl.style.display =\n",
              "        google.colab.kernel.accessAllowed ? 'block' : 'none';\n",
              "    })();\n",
              "  </script>\n",
              "</div>\n",
              "    </div>\n",
              "  </div>\n"
            ]
          },
          "metadata": {},
          "execution_count": 9
        }
      ]
    },
    {
      "cell_type": "markdown",
      "source": [
        "Here, I focus on the question: Of course, we all hope that there will not be another war, but if it were to come to that, would you be willing to fight for your country? (V66) 1) Yes\t2) No\n",
        "\n",
        "For this question, I want to assign health condition, age, marital status, and sex as independent variables. And I expect people who were healthy, young, single, and male were more willing to fight for their country in a war."
      ],
      "metadata": {
        "id": "jHycfsiGMskZ"
      }
    },
    {
      "cell_type": "code",
      "source": [
        "d.rename(columns={'V66':'fight',\n",
        "                  'V11':'health',\n",
        "                  'V242':'age',\n",
        "                  'V57':'marital',\n",
        "                  'V240':'sex',\n",
        "                  # 'V239' asks where you places yourself in the income distribution in your country\n",
        "                  'V239':'ses'},\n",
        "                  inplace=True)"
      ],
      "metadata": {
        "id": "-SYYeau6bszD"
      },
      "execution_count": 10,
      "outputs": []
    },
    {
      "cell_type": "markdown",
      "source": [
        "In following codes, I change variables to be binary for better understanding and easier interpretation."
      ],
      "metadata": {
        "id": "bKrXtngxxwcY"
      }
    },
    {
      "cell_type": "code",
      "source": [
        "conditions = [\n",
        "    (d['fight'] ==1) ,\n",
        "     (d['fight'] !=1 )]\n",
        "choices = [1,0]\n",
        "d['ffight'] = np.select(conditions, choices, default=np.nan)"
      ],
      "metadata": {
        "id": "xkQ_5uMkVk3E"
      },
      "execution_count": 11,
      "outputs": []
    },
    {
      "cell_type": "code",
      "source": [
        "conditions = [\n",
        "    (d['health'] <=2) ,\n",
        "     (d['health'] >2 )]\n",
        "choices = [1,0]\n",
        "d['healthy'] = np.select(conditions, choices, default=np.nan)"
      ],
      "metadata": {
        "id": "rlZ2Lx8KH8HJ"
      },
      "execution_count": 12,
      "outputs": []
    },
    {
      "cell_type": "code",
      "source": [
        "conditions = [\n",
        "    (d['marital'] ==1) ,\n",
        "     (d['marital'] >1 )]\n",
        "choices = [1,0]\n",
        "d['married'] = np.select(conditions, choices, default=np.nan)"
      ],
      "metadata": {
        "id": "0-bweItPVwAm"
      },
      "execution_count": 13,
      "outputs": []
    },
    {
      "cell_type": "code",
      "source": [
        "conditions = [\n",
        "    (d['sex'] ==2) ,\n",
        "     (d['sex'] !=2 )]\n",
        "choices = [1,0]\n",
        "d['female'] = np.select(conditions, choices, default=np.nan)"
      ],
      "metadata": {
        "id": "dsTCF7xjVz5p"
      },
      "execution_count": 14,
      "outputs": []
    },
    {
      "cell_type": "markdown",
      "source": [
        "I am going to focus on China, which has a country code (V2) of 156."
      ],
      "metadata": {
        "id": "8oAHW67rnzXQ"
      }
    },
    {
      "cell_type": "code",
      "source": [
        "# Include only observations that also answer about their income level\n",
        "dd = d.dropna(subset = [\"ses\"])\n",
        "\n",
        "lm1 = smf.ols(formula = 'ffight ~ healthy + age + female + married', data = dd, subset = (dd['V2']==156) ).fit()\n",
        "print (lm1.summary())"
      ],
      "metadata": {
        "id": "kjGy4-3HV2PJ",
        "colab": {
          "base_uri": "https://localhost:8080/"
        },
        "outputId": "6a572361-6e2d-41a4-9ba5-34b028ac2e60"
      },
      "execution_count": 15,
      "outputs": [
        {
          "output_type": "stream",
          "name": "stdout",
          "text": [
            "                            OLS Regression Results                            \n",
            "==============================================================================\n",
            "Dep. Variable:                 ffight   R-squared:                       0.037\n",
            "Model:                            OLS   Adj. R-squared:                  0.035\n",
            "Method:                 Least Squares   F-statistic:                     19.40\n",
            "Date:                Sun, 05 Nov 2023   Prob (F-statistic):           1.11e-15\n",
            "Time:                        20:46:32   Log-Likelihood:                -1152.2\n",
            "No. Observations:                2042   AIC:                             2314.\n",
            "Df Residuals:                    2037   BIC:                             2342.\n",
            "Df Model:                           4                                         \n",
            "Covariance Type:            nonrobust                                         \n",
            "==============================================================================\n",
            "                 coef    std err          t      P>|t|      [0.025      0.975]\n",
            "------------------------------------------------------------------------------\n",
            "Intercept      0.8774      0.040     22.067      0.000       0.799       0.955\n",
            "healthy        0.0863      0.021      4.134      0.000       0.045       0.127\n",
            "age           -0.0028      0.001     -4.122      0.000      -0.004      -0.001\n",
            "female        -0.0968      0.019     -5.132      0.000      -0.134      -0.060\n",
            "married       -0.0174      0.025     -0.682      0.495      -0.067       0.033\n",
            "==============================================================================\n",
            "Omnibus:                      349.309   Durbin-Watson:                   1.638\n",
            "Prob(Omnibus):                  0.000   Jarque-Bera (JB):              434.957\n",
            "Skew:                          -1.086   Prob(JB):                     3.55e-95\n",
            "Kurtosis:                       2.375   Cond. No.                         210.\n",
            "==============================================================================\n",
            "\n",
            "Notes:\n",
            "[1] Standard Errors assume that the covariance matrix of the errors is correctly specified.\n"
          ]
        }
      ]
    },
    {
      "cell_type": "markdown",
      "source": [
        "Based on the above results, we can see that women, older people and married people were less inclined to fight in a war, but age seems to be less influential compared to gender and marital status. Moreover, healthy people were more willing to fight in a war with 0.086 points more in affirmative responses compared to unhealthy people. These results fit my expectation, but the result of the \"married\" variable is not statistically significant with a p-value of 0.495."
      ],
      "metadata": {
        "id": "-WNlZgQYMznR"
      }
    },
    {
      "cell_type": "markdown",
      "source": [
        "### 4. Now add another independent variable to that model in Question 3, specifically a set of dummy variables. Tell me why you added that new set of variables and what effect you expected them to have. Did they have an effect? Interpret that new model."
      ],
      "metadata": {
        "id": "lCvr5AvKbtAV"
      }
    },
    {
      "cell_type": "markdown",
      "source": [
        "Here I add the variable asking where you places yourself in the income distribution in your country (V239/SES), because I guess that people with higher incomes may be less inclined to fight in a war."
      ],
      "metadata": {
        "id": "rEhMP1IyND7O"
      }
    },
    {
      "cell_type": "code",
      "source": [
        "# Break each category in the SES variable to be dummy variables\n",
        "ddsub = pd.concat([dd.ffight, dd.healthy, dd.age, dd.female, dd.married, dd.V2,\n",
        "                   pd.get_dummies(dd.ses.astype(int), prefix='ses')],  axis = 1 )\n",
        "ddsub.columns"
      ],
      "metadata": {
        "id": "GJWufhPCbuGR",
        "colab": {
          "base_uri": "https://localhost:8080/"
        },
        "outputId": "d072fd00-0ec3-4021-a16a-da8fc5b50aeb"
      },
      "execution_count": 16,
      "outputs": [
        {
          "output_type": "execute_result",
          "data": {
            "text/plain": [
              "Index(['ffight', 'healthy', 'age', 'female', 'married', 'V2', 'ses_1', 'ses_2',\n",
              "       'ses_3', 'ses_4', 'ses_5', 'ses_6', 'ses_7', 'ses_8', 'ses_9',\n",
              "       'ses_10'],\n",
              "      dtype='object')"
            ]
          },
          "metadata": {},
          "execution_count": 16
        }
      ]
    },
    {
      "cell_type": "code",
      "source": [
        "lm2 = smf.ols(formula = 'ffight ~ healthy + age + female + married + ses_2 + ses_3 + ses_4 + ses_5 + ses_6 + ses_7 + ses_8 + ses_9 + ses_10', data = ddsub, subset = (ddsub['V2']==156) ).fit()\n",
        "print (lm2.summary())"
      ],
      "metadata": {
        "id": "y-eXCXWDV8Pu",
        "colab": {
          "base_uri": "https://localhost:8080/"
        },
        "outputId": "dbba2418-af30-4f23-d500-53000a2f3e9d"
      },
      "execution_count": 17,
      "outputs": [
        {
          "output_type": "stream",
          "name": "stdout",
          "text": [
            "                            OLS Regression Results                            \n",
            "==============================================================================\n",
            "Dep. Variable:                 ffight   R-squared:                       0.044\n",
            "Model:                            OLS   Adj. R-squared:                  0.038\n",
            "Method:                 Least Squares   F-statistic:                     7.136\n",
            "Date:                Sun, 05 Nov 2023   Prob (F-statistic):           9.20e-14\n",
            "Time:                        20:46:32   Log-Likelihood:                -1144.7\n",
            "No. Observations:                2042   AIC:                             2317.\n",
            "Df Residuals:                    2028   BIC:                             2396.\n",
            "Df Model:                          13                                         \n",
            "Covariance Type:            nonrobust                                         \n",
            "==============================================================================\n",
            "                 coef    std err          t      P>|t|      [0.025      0.975]\n",
            "------------------------------------------------------------------------------\n",
            "Intercept      0.9183      0.054     17.031      0.000       0.813       1.024\n",
            "healthy        0.0919      0.021      4.376      0.000       0.051       0.133\n",
            "age           -0.0029      0.001     -4.165      0.000      -0.004      -0.002\n",
            "female        -0.0977      0.019     -5.170      0.000      -0.135      -0.061\n",
            "married       -0.0149      0.026     -0.581      0.561      -0.065       0.035\n",
            "ses_2         -0.0529      0.048     -1.109      0.268      -0.146       0.041\n",
            "ses_3         -0.0263      0.045     -0.584      0.559      -0.114       0.062\n",
            "ses_4         -0.0061      0.044     -0.138      0.890      -0.093       0.081\n",
            "ses_5         -0.0648      0.044     -1.485      0.138      -0.150       0.021\n",
            "ses_6         -0.0468      0.045     -1.034      0.301      -0.136       0.042\n",
            "ses_7         -0.1104      0.050     -2.222      0.026      -0.208      -0.013\n",
            "ses_8         -0.0448      0.061     -0.738      0.461      -0.164       0.074\n",
            "ses_9          0.0381      0.178      0.214      0.831      -0.311       0.387\n",
            "ses_10        -0.3854      0.166     -2.328      0.020      -0.710      -0.061\n",
            "==============================================================================\n",
            "Omnibus:                      339.997   Durbin-Watson:                   1.643\n",
            "Prob(Omnibus):                  0.000   Jarque-Bera (JB):              427.133\n",
            "Skew:                          -1.078   Prob(JB):                     1.77e-93\n",
            "Kurtosis:                       2.393   Cond. No.                         899.\n",
            "==============================================================================\n",
            "\n",
            "Notes:\n",
            "[1] Standard Errors assume that the covariance matrix of the errors is correctly specified.\n"
          ]
        }
      ]
    },
    {
      "cell_type": "markdown",
      "source": [
        "The above results tell us that people with higher incomes were less inclined to fight in a war, shown by a general change from a -0.053 coefficient of ses_2 to a -0.385 coefficient of ses_10. But not every case shows the effect, and most of these cases are not statistically significantly on their own."
      ],
      "metadata": {
        "id": "5kjcKUtMnsdm"
      }
    }
  ]
}